{
 "cells": [
  {
   "cell_type": "markdown",
   "metadata": {
    "slideshow": {
     "slide_type": "slide"
    }
   },
   "source": [
    "#### Object-Orientation and Design Patterns\n",
    "\n",
    "## Introduction to OO concepts\n",
    "\n",
    "----\n",
    "Credits to:\n",
    "\n",
    "Eric Kerfoot, King's College London, August 2018\n",
    "\n",
    "Copied from: https://nbviewer.org/github/ericspod/Python-Talk/blob/master/Object-Orientation_and_Design_Patterns.ipynb "
   ]
  },
  {
   "cell_type": "markdown",
   "metadata": {
    "slideshow": {
     "slide_type": "slide"
    }
   },
   "source": [
    " * Slides cover basic introduction to the object-orientation programming paradigm\n",
    " * Topics to cover:\n",
    "   * Object definition\n",
    "   * Classes and object members\n",
    "   * Interfaces\n",
    "   * Inheritance\n",
    "   * Design patterns\n",
    " * Python is the main focus language but concepts are universal\n",
    " "
   ]
  },
  {
   "cell_type": "markdown",
   "metadata": {
    "slideshow": {
     "slide_type": "slide"
    }
   },
   "source": [
    "#### What is an Object?\n",
    " * Object-orientation is centered on encapsulating data with operations\n",
    " * Objects are pieces of data with associated routines which manipulates it\n",
    " * OO programs are composed of many objects aggregating together to form structures and cooperate in implementing behaviour"
   ]
  },
  {
   "cell_type": "markdown",
   "metadata": {
    "slideshow": {
     "slide_type": "slide"
    }
   },
   "source": [
    " * Contrast this with imperative languages like C or Fortran\n",
    " * Data is defined in types which only describe data fields\n",
    " * Routines defined separately which use these types but relationship is loose\n",
    " * Data and routines together define an abstract data type (ADT)"
   ]
  },
  {
   "cell_type": "markdown",
   "metadata": {
    "slideshow": {
     "slide_type": "slide"
    }
   },
   "source": [
    "```c\n",
    "struct Dimension { \n",
    "    int width, height; \n",
    "};\n",
    "\n",
    "void init(struct Dimension* d, int w, int h);\n",
    "int area(struct Dimension* d);\n",
    "```\n",
    "\n",
    "* Abstract in that the definitions for operations are not defined, only declared\n",
    "* Clients can use this ADT through the declaration without needing to know implementation details"
   ]
  },
  {
   "cell_type": "markdown",
   "metadata": {
    "slideshow": {
     "slide_type": "slide"
    }
   },
   "source": [
    " * Relationship between data type and routines is loose and implicit\n",
    " * Definition cannot (or at least not easily) be changed to modify behaviour or adapt existing code to new situations\n",
    " * Object-orientation aims to make the connection between data and code explicit while preserving abstraction\n",
    " * Objects are instances of ADTs with additional behaviour added, eg. inheritance"
   ]
  },
  {
   "cell_type": "markdown",
   "metadata": {
    "slideshow": {
     "slide_type": "slide"
    }
   },
   "source": [
    " * C++ equivalent ADT defined as a class:\n",
    " \n",
    "```c++\n",
    "class Dimension {\n",
    "\n",
    "private:\n",
    "  int width, height;\n",
    "  \n",
    "public:\n",
    "  Dimension(int w, int h);\n",
    "  virtual int area();\n",
    "};\n",
    "```\n",
    " * Maintains abstraction but defines data values with routines which implicitly access them\n"
   ]
  },
  {
   "cell_type": "markdown",
   "metadata": {
    "slideshow": {
     "slide_type": "slide"
    }
   },
   "source": [
    " * In Python:"
   ]
  },
  {
   "cell_type": "code",
   "execution_count": 8,
   "metadata": {
    "slideshow": {
     "slide_type": "fragment"
    }
   },
   "outputs": [],
   "source": [
    "class Dimension(object):\n",
    "    \n",
    "    def __init__(self,w,h):\n",
    "        self.width=w   # create attributes here\n",
    "        self.height=h\n",
    "        \n",
    "    def area(self):\n",
    "        return self.width*self.height"
   ]
  },
  {
   "cell_type": "markdown",
   "metadata": {
    "slideshow": {
     "slide_type": "fragment"
    }
   },
   "source": [
    " * Defines same structural type although abstraction is lost\n",
    " * Still defines the equivalent interface: a routine for creating and an `area()` operation"
   ]
  },
  {
   "cell_type": "markdown",
   "metadata": {
    "slideshow": {
     "slide_type": "slide"
    }
   },
   "source": [
    " * Objects are created by instantiating a class:"
   ]
  },
  {
   "cell_type": "code",
   "execution_count": 9,
   "metadata": {
    "slideshow": {
     "slide_type": "fragment"
    }
   },
   "outputs": [],
   "source": [
    "d=Dimension(10, 20)"
   ]
  },
  {
   "cell_type": "markdown",
   "metadata": {
    "slideshow": {
     "slide_type": "fragment"
    }
   },
   "source": [
    "<img style=\"float: right;\" src=\"objgraph1.png\">\n",
    "\n",
    " * The instance object will have the members defined by the class\n",
    " * Variable `d` references an instance of `Dimension`, this object has the type `Dimension` as well as `object`"
   ]
  },
  {
   "cell_type": "markdown",
   "metadata": {
    "slideshow": {
     "slide_type": "slide"
    }
   },
   "source": [
    " * Multiple instances of a class can be created\n",
    " * Each instance is an independent object with unique identities and distinct members:"
   ]
  },
  {
   "cell_type": "code",
   "execution_count": 11,
   "metadata": {
    "slideshow": {
     "slide_type": "fragment"
    }
   },
   "outputs": [
    {
     "name": "stdout",
     "output_type": "stream",
     "text": [
      "81465528 81468888\n"
     ]
    }
   ],
   "source": [
    "d1=Dimension(15, 30)\n",
    "print(id(d), id(d1)) # id() returns object's identifier (ie. address)"
   ]
  },
  {
   "cell_type": "markdown",
   "metadata": {
    "slideshow": {
     "slide_type": "fragment"
    }
   },
   "source": [
    " <img style=\"float: right;\" src=\"objgraph2.png\">\n",
    " * Objects `d` and `d1` store different values and exist in different sections of memory, but share a common structure"
   ]
  },
  {
   "cell_type": "markdown",
   "metadata": {
    "slideshow": {
     "slide_type": "slide"
    }
   },
   "source": [
    " * Important to note in Python that variables are names for objects, assignment changes what object the name refers to:"
   ]
  },
  {
   "cell_type": "code",
   "execution_count": 12,
   "metadata": {
    "slideshow": {
     "slide_type": "fragment"
    }
   },
   "outputs": [
    {
     "name": "stdout",
     "output_type": "stream",
     "text": [
      "81465528 81465528\n"
     ]
    }
   ],
   "source": [
    "d1=d\n",
    "print(id(d),id(d1))"
   ]
  },
  {
   "cell_type": "markdown",
   "metadata": {
    "slideshow": {
     "slide_type": "fragment"
    }
   },
   "source": [
    "<img style=\"float: right;\" src=\"objgraph3.png\">\n",
    "\n",
    "* `d` and `d1` now name the same object\n",
    "* Original object `d1` named has not been changed, but is now inaccessible and liable to be collected"
   ]
  },
  {
   "cell_type": "markdown",
   "metadata": {
    "slideshow": {
     "slide_type": "slide"
    }
   },
   "source": [
    " * Components of objects are members (or features) falling in these general categories:\n",
    "   * __Attributes__: named data values stored in the object\n",
    "   * __Methods__: routines associated with the object and which can refer to the object by name\n",
    "   * __Constructor__: special method used to setup a new object's state at the point of instantiation\n",
    "   \n",
    " * Other languages have different types, usually special forms of these"
   ]
  },
  {
   "cell_type": "markdown",
   "metadata": {
    "slideshow": {
     "slide_type": "slide"
    }
   },
   "source": [
    " * Members of objects are accessed with the dot notation expression: __`<object>.<member>`__"
   ]
  },
  {
   "cell_type": "code",
   "execution_count": 13,
   "metadata": {
    "slideshow": {
     "slide_type": "fragment"
    }
   },
   "outputs": [
    {
     "name": "stdout",
     "output_type": "stream",
     "text": [
      "10 20\n",
      "12 20\n",
      "<bound method Dimension.area of <__main__.Dimension object at 0x0000000004DB10B8>>\n"
     ]
    }
   ],
   "source": [
    "print(d.width, d.height) # access\n",
    "d.width=12 # assign to a member changes the stored value\n",
    "print(d.width, d.height)\n",
    "print(d.area) # methods can be accessed without being called"
   ]
  },
  {
   "cell_type": "markdown",
   "metadata": {
    "slideshow": {
     "slide_type": "slide"
    }
   },
   "source": [
    " * One important name that exists in all methods is __self__\n",
    " * Refers to the object whose method was called (the receiver or callee object)\n",
    " * Value is set within scope of call "
   ]
  },
  {
   "cell_type": "code",
   "execution_count": 15,
   "metadata": {
    "slideshow": {
     "slide_type": "fragment"
    }
   },
   "outputs": [
    {
     "name": "stdout",
     "output_type": "stream",
     "text": [
      "240\n"
     ]
    }
   ],
   "source": [
    "#def area(self): # recall the definition of area()\n",
    "#    return self.width*self.height\n",
    "\n",
    "print(d.area()) # self becomes d within scope of call"
   ]
  },
  {
   "cell_type": "markdown",
   "metadata": {
    "slideshow": {
     "slide_type": "slide"
    }
   },
   "source": [
    " * Methods define operations associated with objects\n",
    " * Relationship is close explicit through the dot notation and `self` value\n",
    " * Attributes and methods also define the __interface__ for interacting with objects\n",
    " * A caller (or client) object only needs the interface information to interact with an object"
   ]
  },
  {
   "cell_type": "markdown",
   "metadata": {
    "slideshow": {
     "slide_type": "slide"
    }
   },
   "source": [
    " * Eg. `area()` defines its part of the interface as a function accepting no arguments and returning a number\n",
    " * An attribute represents a value that can be queried or assigned to\n",
    " * The interfaces for methods and attributes together form the __object interface__ for their associated objects"
   ]
  },
  {
   "cell_type": "markdown",
   "metadata": {
    "slideshow": {
     "slide_type": "slide"
    }
   },
   "source": [
    "* A class defining a different `area()` method with the same interface:"
   ]
  },
  {
   "cell_type": "code",
   "execution_count": 17,
   "metadata": {
    "slideshow": {
     "slide_type": "fragment"
    }
   },
   "outputs": [
    {
     "name": "stdout",
     "output_type": "stream",
     "text": [
      "900\n"
     ]
    }
   ],
   "source": [
    "class Dimension3(object):\n",
    "    def __init__(self,w,h,d):\n",
    "        self.width=w\n",
    "        self.height=h\n",
    "        self.depth=d\n",
    "        \n",
    "    def area(self):\n",
    "        return 2*(self.width*(self.height+self.depth)+self.height*self.depth)\n",
    "    \n",
    "d3=Dimension3(10,12,15)\n",
    "print(d3.area())"
   ]
  },
  {
   "cell_type": "markdown",
   "metadata": {
    "slideshow": {
     "slide_type": "slide"
    }
   },
   "source": [
    " * Methods `Dimension.area()` and `Dimension3.area()` provide the same interface\n",
    " * Interface abstracts away the details of implementation\n",
    " * Clients need no more information than this to use either:"
   ]
  },
  {
   "cell_type": "code",
   "execution_count": 18,
   "metadata": {
    "scrolled": true,
    "slideshow": {
     "slide_type": "fragment"
    }
   },
   "outputs": [
    {
     "name": "stdout",
     "output_type": "stream",
     "text": [
      "15\n",
      "30\n"
     ]
    }
   ],
   "source": [
    "def calcsquare(obj):\n",
    "    area=obj.area()\n",
    "    return int(area**0.5)\n",
    "\n",
    "print(calcsquare(d)) # d is instance of Dimension\n",
    "print(calcsquare(d3)) # d3 is instance of Dimension3"
   ]
  },
  {
   "cell_type": "markdown",
   "metadata": {
    "slideshow": {
     "slide_type": "slide"
    }
   },
   "source": [
    " * Easy to implement in Python since `calcsquare()` doesn't check that `obj` fulfills the needed interface, tries to call `area()` and  raises an exception if something goes wrong\n",
    " * Called __duck typing__ since if it looks like a duck, and quacks like a duck, it ain't a moose \n",
    " * Static typed languages (C++) require interface to be declared:\n",
    " \n",
    " ```c++\n",
    "class AreaInterface { \n",
    "         public: virtual float area()=0; \n",
    "};\n",
    "float calcsquare(const AreaInterface& obj) {...}\n",
    "```"
   ]
  },
  {
   "cell_type": "markdown",
   "metadata": {
    "slideshow": {
     "slide_type": "slide"
    }
   },
   "source": [
    "### Inheritance\n",
    " * Inheritance allows a class to be defined in terms of others\n",
    " * Inheriting type (the subtype or subclass) receives all members of the type being inherited (the supertype or superclass)\n",
    " * Allows a class to acquire member definitions without having to redefine them\n",
    " * Prevents reinventing the wheel in many cases, important component to reuse"
   ]
  },
  {
   "cell_type": "code",
   "execution_count": 19,
   "metadata": {
    "slideshow": {
     "slide_type": "slide"
    }
   },
   "outputs": [
    {
     "name": "stdout",
     "output_type": "stream",
     "text": [
      "4 4 12 10\n",
      "120 (16, 14)\n",
      "True True\n"
     ]
    }
   ],
   "source": [
    "class Rect(Dimension):\n",
    "    def __init__(self,x,y,w,d):\n",
    "        Dimension.__init__(self,w,d)\n",
    "        self.x=x\n",
    "        self.y=y\n",
    "        \n",
    "    def farCorner(self):\n",
    "        return (self.x+self.width,self.y+self.height)\n",
    "    \n",
    "r=Rect(4,4,12,10)\n",
    "print(r.x, r.y, r.width, r.height)\n",
    "print(r.area(), r.farCorner())\n",
    "print(isinstance(r,Rect), isinstance(r,Dimension))"
   ]
  },
  {
   "cell_type": "markdown",
   "metadata": {
    "slideshow": {
     "slide_type": "slide"
    }
   },
   "source": [
    " * `Rect` inherited members from `Dimension` and introduced new ones\n",
    " * It has an `area()` method which functions as before\n",
    " * Instances of `Rect` are also instances of `Dimension`; this is one aspect of __polymorphism__\n",
    " * Classes can inherit from multiple supertypes, conflicts can result if multiple inherited members share names"
   ]
  },
  {
   "cell_type": "markdown",
   "metadata": {
    "slideshow": {
     "slide_type": "slide"
    }
   },
   "source": [
    " * Inheritance is more than copy-pasting member definitions (or at least should be)\n",
    " * Subtype is a __specialization__ of the supertype, it represents a related concept that is more refined or specific to a particular context\n",
    " * Classes are meant to represent a single unified concept in a program (`Dimension` for a 2D size definition, `file` for a file object, `list`, `tuple`, or `dict` for data structures, etc.)\n",
    " * Subtypes are the same concept but with some added notion or constraint which makes them more specific"
   ]
  },
  {
   "cell_type": "markdown",
   "metadata": {
    "slideshow": {
     "slide_type": "slide"
    }
   },
   "source": [
    " * __Principle of Substitution__ states that substituting an instance of a type in an algorithm with an instance of a subtype should not affect the algorithm's correctness\n",
    " * Algorithm may behave differently depending on the instance, but correctness should not be compromised\n",
    " * Eg. `calcsquare()` should function correctly with an instance of `Dimension` or one of `Rect`"
   ]
  },
  {
   "cell_type": "markdown",
   "metadata": {
    "slideshow": {
     "slide_type": "slide"
    }
   },
   "source": [
    " * `Rect` is obviously substitutable since it only adds members.\n",
    " * __Method overriding__ allows a subclass to replace an inherited method with a new one\n",
    " * Inherit and new methods will call to this new method\n",
    " * Useful in modifying the behaviour of other methods that are rely on those being replaced\n",
    " * In Python only the name is relevant to what method is overridden, in other languages other rules apply"
   ]
  },
  {
   "cell_type": "code",
   "execution_count": 20,
   "metadata": {
    "slideshow": {
     "slide_type": "slide"
    }
   },
   "outputs": [],
   "source": [
    "class Dimension(object):\n",
    "    def __init__(self,w,h):\n",
    "        self.width=w\n",
    "        self.height=h\n",
    "        \n",
    "    def midpoint(self):\n",
    "        return (self.width*0.5,self.height*0.5)\n",
    "    \n",
    "    def name(self): # prints name of class and midpoint\n",
    "        return '%s, mid = %r'%(self.__class__.__name__,self.midpoint())\n",
    "    \n",
    "class Rect(Dimension):\n",
    "    def __init__(self,x,y,w,d):\n",
    "        Dimension.__init__(self,w,d)\n",
    "        self.x=x\n",
    "        self.y=y  \n",
    "        \n",
    "    def midpoint(self):\n",
    "        return (self.x+self.width*0.5,self.y+self.height*0.5)"
   ]
  },
  {
   "cell_type": "code",
   "execution_count": 21,
   "metadata": {
    "slideshow": {
     "slide_type": "slide"
    }
   },
   "outputs": [
    {
     "name": "stdout",
     "output_type": "stream",
     "text": [
      "Dimension, mid = (5.0, 7.5)\n",
      "Rect, mid = (10.0, 17.5)\n"
     ]
    }
   ],
   "source": [
    "d=Dimension(10,15)\n",
    "r=Rect(5,10,10,15)\n",
    "print(d.name())\n",
    "print(r.name())"
   ]
  },
  {
   "cell_type": "markdown",
   "metadata": {
    "slideshow": {
     "slide_type": "fragment"
    }
   },
   "source": [
    " * When `name()` is called on the instance of `Rect` this method is called, even though `name()` itself is not overridden\n",
    " * Demonstrates that an inherited method is not hard wired to the methods defined in the superclass"
   ]
  },
  {
   "cell_type": "markdown",
   "metadata": {
    "slideshow": {
     "slide_type": "slide"
    }
   },
   "source": [
    " * Reuse mechanism since types can be defined expecting methods to be overridden to adapt them to other uses\n",
    " * Common pattern is to define abstract methods which do nothing with algorithms relying on their behaviour in subtypes\n",
    " * Principle of substitution states subtypes should be defined in a semantically substitutable way, otherwise clients reliant on the expected behaviour will not necessarily operate correctly"
   ]
  },
  {
   "cell_type": "code",
   "execution_count": 22,
   "metadata": {
    "slideshow": {
     "slide_type": "slide"
    }
   },
   "outputs": [
    {
     "name": "stdout",
     "output_type": "stream",
     "text": [
      "True\n",
      "False\n"
     ]
    }
   ],
   "source": [
    "class AbstractList(object):\n",
    "    def size(self): pass # size of list\n",
    "    def get(self,i): pass # get i'th element\n",
    "    def contains(self,v): # True if v in list\n",
    "        return any(self.get(i)==v for i in range(self.size()))\n",
    "    \n",
    "class ConcreteList(AbstractList):\n",
    "    def __init__(self,vals):\n",
    "        self.vals=vals\n",
    "    def size(self):\n",
    "        return len(self.vals)\n",
    "    def get(self,i):\n",
    "        return self.vals[i]\n",
    "    \n",
    "cl=ConcreteList(['Graham','John','Eric','Terry'])\n",
    "print(cl.contains('Eric'))\n",
    "print(cl.contains('Michael'))"
   ]
  },
  {
   "cell_type": "markdown",
   "metadata": {
    "slideshow": {
     "slide_type": "slide"
    }
   },
   "source": [
    " * Other OO features not present/needed in Python:\n",
    "   * __Method Overloading__: defining multiple methods/constructors with the same name\n",
    "   * __Access Modifiers__: added component of declarations control who can access or mutate the member\n",
    "   * __Variable Polymorphism__: instances of subtypes to be assigned to variables having the supertype. Eg.:\n",
    "  ```c++\n",
    "  Dimension *d=new Rect(5,10,10,15);\n",
    "  ```\n",
    "   * __Interfaces__: distinct type defining only method interface\n",
    "   * __Templates__: C++ parameterized types where internal definition relies on a changeable type argument"
   ]
  },
  {
   "cell_type": "markdown",
   "metadata": {
    "slideshow": {
     "slide_type": "slide"
    }
   },
   "source": [
    "## Design Patterns\n",
    " * Medium-level architectural idiom which captures some common idiom or useful organizational/creational notion in an object-oriented system\n",
    " * No implementation of a pattern is like another, definition is deliberately vague because patterns are inherently adaptable\n",
    " * Many patterns rely on static typing so don't appear in Python\n",
    " * Others are very common and built into the Python language and library"
   ]
  },
  {
   "cell_type": "markdown",
   "metadata": {
    "slideshow": {
     "slide_type": "slide"
    }
   },
   "source": [
    "#### Subject-Observer\n",
    "\n",
    " * Defines a relationship between subject objects and observer objects\n",
    " * Observer objects register their interest in the subject, when a particular event occurs the subject notifies the observers\n",
    " * Allows objects to keep track of when state changes and channel the process for reacting to change through a specific mechanism\n",
    " * Eg. button in a UI is a subject, press button and observers react"
   ]
  },
  {
   "cell_type": "code",
   "execution_count": 23,
   "metadata": {
    "slideshow": {
     "slide_type": "slide"
    }
   },
   "outputs": [],
   "source": [
    "class AbstractSubject(object):\n",
    "    def __init__(self):\n",
    "        self.observers=set() \n",
    "        \n",
    "    def addObserver(self,o):\n",
    "        self.observers.add(o)\n",
    "        \n",
    "    def removeObserver(self,o):\n",
    "        self.observers.remove(o)\n",
    "        \n",
    "    def notifyObservers(self):\n",
    "        for o in self.observers:\n",
    "            o.notify(self)\n",
    "            \n",
    "class AbstractObserver(object):\n",
    "    def notify(self,subject): pass"
   ]
  },
  {
   "cell_type": "code",
   "execution_count": 25,
   "metadata": {
    "slideshow": {
     "slide_type": "slide"
    }
   },
   "outputs": [
    {
     "name": "stdout",
     "output_type": "stream",
     "text": [
      "John saw that Graham changed names\n",
      "Michael saw that Graham changed names\n"
     ]
    }
   ],
   "source": [
    "class NameSubject(AbstractSubject):\n",
    "    def __init__(self,n):\n",
    "        AbstractSubject.__init__(self)\n",
    "        self.name=n\n",
    "    \n",
    "    def setName(self,n):\n",
    "        self.name=n\n",
    "        self.notifyObservers()\n",
    "\n",
    "class NameObserver(AbstractObserver):\n",
    "    def __init__(self,n):\n",
    "        self.name=n\n",
    "        \n",
    "    def notify(self,subject):\n",
    "        print(self.name,'saw that',subject.name,'changed names')\n",
    "        \n",
    "s=NameSubject('Terry')\n",
    "o1=NameObserver('John')\n",
    "s.addObserver(o1)\n",
    "o2=NameObserver('Michael')\n",
    "s.addObserver(o2)\n",
    "s.setName('Graham')"
   ]
  },
  {
   "cell_type": "markdown",
   "metadata": {
    "slideshow": {
     "slide_type": "slide"
    }
   },
   "source": [
    "#### Iterator\n",
    "\n",
    " * Object which traverses a data structure by producing successive values upon request \n",
    " * Abstracts away how traversing works\n",
    " * Common interface for multiple types of traversable structures\n",
    " * Ubiquitous in Python, used most commonly in `for` loops, built into language in other ways"
   ]
  },
  {
   "cell_type": "code",
   "execution_count": 26,
   "metadata": {
    "slideshow": {
     "slide_type": "fragment"
    }
   },
   "outputs": [
    {
     "name": "stdout",
     "output_type": "stream",
     "text": [
      "[0, 1, 2, 3, 4]\n",
      "<list_iterator object at 0x0000000004DCFB38>\n",
      "0\n",
      "1\n"
     ]
    }
   ],
   "source": [
    "r=[0,1,2,3,4] # data structure\n",
    "print(r)\n",
    "it=iter(r) # get an iterator from the structure\n",
    "print(it)\n",
    "print(next(it)) # get the first value\n",
    "print(next(it)) # get the next value after that"
   ]
  },
  {
   "cell_type": "markdown",
   "metadata": {
    "slideshow": {
     "slide_type": "slide"
    }
   },
   "source": [
    " * Relationship between the data structure and its iterators is one-to-many\n",
    " * Allows a single structure to be traversed by multiple iterators which may do so in different ways\n",
    " * In Python, an object is an iterator if it implements a `__next__()` method which returns the next value in its notional sequence, and raises `StopIteration` when exhausted\n",
    " * An object is iterable if it implements a method `__iter__()` which returns an iterator\n",
    " * The subject of a `for` loop must be iterable"
   ]
  },
  {
   "cell_type": "code",
   "execution_count": 29,
   "metadata": {
    "slideshow": {
     "slide_type": "slide"
    }
   },
   "outputs": [
    {
     "name": "stdout",
     "output_type": "stream",
     "text": [
      "1 2 3 4 5\n",
      "No more\n"
     ]
    }
   ],
   "source": [
    "class mylistiterator(object):\n",
    "    def __init__(self,lst):\n",
    "        self.pos=0\n",
    "        self.lst=lst\n",
    "    def __next__(self): # returns successive values\n",
    "        if self.pos<len(self.lst):\n",
    "            self.pos+=1\n",
    "            return self.lst[self.pos-1]\n",
    "        raise StopIteration # indicates no more items\n",
    "        \n",
    "it=mylistiterator([1,2,3,4,5])\n",
    "print(next(it), next(it), next(it), next(it), next(it))\n",
    "\n",
    "try:\n",
    "    print(next(it)) # try to get more items\n",
    "except StopIteration:\n",
    "    print('No more')"
   ]
  },
  {
   "cell_type": "code",
   "execution_count": 30,
   "metadata": {
    "slideshow": {
     "slide_type": "slide"
    }
   },
   "outputs": [
    {
     "name": "stdout",
     "output_type": "stream",
     "text": [
      "1\n",
      "2\n",
      "3\n",
      "4\n",
      "5\n"
     ]
    }
   ],
   "source": [
    "class mylist(object):\n",
    "    def __init__(self,lst):\n",
    "        self.lst=lst\n",
    "    def __iter__(self):\n",
    "        return mylistiterator(self.lst)\n",
    "    \n",
    "m=mylist([1,2,3,4,5])\n",
    "\n",
    "for i in m:\n",
    "    print(i)"
   ]
  },
  {
   "cell_type": "markdown",
   "metadata": {
    "slideshow": {
     "slide_type": "slide"
    }
   },
   "source": [
    " * The `for` statement given previously is roughly equivalent to the following:"
   ]
  },
  {
   "cell_type": "code",
   "execution_count": 31,
   "metadata": {
    "slideshow": {
     "slide_type": "fragment"
    }
   },
   "outputs": [
    {
     "name": "stdout",
     "output_type": "stream",
     "text": [
      "1\n",
      "2\n",
      "3\n",
      "4\n",
      "5\n"
     ]
    }
   ],
   "source": [
    "it=iter(m)\n",
    "while True:\n",
    "    try:\n",
    "        i=next(it)\n",
    "    except StopIteration:\n",
    "        break\n",
    "        \n",
    "    print (i)"
   ]
  },
  {
   "cell_type": "markdown",
   "metadata": {
    "slideshow": {
     "slide_type": "slide"
    }
   },
   "source": [
    "#### Template Method\n",
    "\n",
    " * An algorithm method is defined in terms of abstract methods declared along side\n",
    " * Expectation is that the methods are implemented in a subtype\n",
    " * Allows the skeleton of an algorithm to be defined which can be adapted to many uses through subtyping and overriding\n",
    " * Saw this in action with `AbstractList` "
   ]
  },
  {
   "cell_type": "code",
   "execution_count": 32,
   "metadata": {
    "slideshow": {
     "slide_type": "fragment"
    }
   },
   "outputs": [],
   "source": [
    "class AbstractAlgorithm(object):\n",
    "    def doSomething(self): pass\n",
    "    \n",
    "    def doSomethingElse(self): pass\n",
    "    \n",
    "    def doAlgorithm(self):\n",
    "        self.doSomething()\n",
    "        self.doSomethingElse()\n",
    "        # other actions..."
   ]
  },
  {
   "cell_type": "markdown",
   "metadata": {
    "slideshow": {
     "slide_type": "slide"
    }
   },
   "source": [
    "## Conclusion\n",
    "\n",
    " * Object-orientation is a programming paradigm which emphasizes the association between data and operations, modularity, abstraction, reusability, and genericity\n",
    " * Objects represent individual concepts in software systems, inheritance allows these concepts to be specialized for specific contexts or applications\n",
    " * OO systems of composed of many objects associated together in cooperative relationships\n",
    " * Design patterns represent a more formal and systematic way of describing common and useful idioms in a way that is generic enough to be adapted to specific problems"
   ]
  }
 ],
 "metadata": {
  "celltoolbar": "Slideshow",
  "kernelspec": {
   "display_name": "Python 3",
   "language": "python",
   "name": "python3"
  },
  "language_info": {
   "codemirror_mode": {
    "name": "ipython",
    "version": 3
   },
   "file_extension": ".py",
   "mimetype": "text/x-python",
   "name": "python",
   "nbconvert_exporter": "python",
   "pygments_lexer": "ipython3",
   "version": "3.6.5"
  }
 },
 "nbformat": 4,
 "nbformat_minor": 1
}
